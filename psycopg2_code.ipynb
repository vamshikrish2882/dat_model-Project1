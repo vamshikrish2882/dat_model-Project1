{
 "cells": [
  {
   "cell_type": "code",
   "execution_count": null,
   "id": "6a9c9c6a",
   "metadata": {},
   "outputs": [],
   "source": [
    "#installing psycopg2 package\n",
    "\n",
    "!pip install psycopg2"
   ]
  },
  {
   "cell_type": "code",
   "execution_count": null,
   "id": "49b3e526",
   "metadata": {},
   "outputs": [],
   "source": [
    "#importing psycopg2 and pandas library\n",
    "\n",
    "import psycopg2\n",
    "import pandas as pd"
   ]
  },
  {
   "cell_type": "code",
   "execution_count": null,
   "id": "d81c744f",
   "metadata": {},
   "outputs": [],
   "source": [
    "# defining a function to create database\n",
    "\n",
    "def create_database():\n",
    "    #connect to default database\n",
    "    conn = psycopg2.connect(\"host = localhost dbname = postgres user = postgres password = arun123\")\n",
    "    conn.set_session(autocommit = True)\n",
    "    cur = conn.cursor()\n",
    "    \n",
    "    #creating a database\n",
    "    cur.execute(\"DROP DATABASE formula1\")\n",
    "    cur.execute(\"CREATE DATABASE formula1\")\n",
    "    \n",
    "    #close connection to default database\n",
    "    conn.close()\n",
    "    \n",
    "    #connect to new database\n",
    "    conn = psycopg2.connect(\"host = localhost dbname=formula1 user = postgres password= arun123\")\n",
    "    cur = conn.cursor()\n",
    "    \n",
    "    return cur, conn"
   ]
  },
  {
   "cell_type": "code",
   "execution_count": null,
   "id": "231a3de4",
   "metadata": {},
   "outputs": [],
   "source": [
    "# defining a function to drop tables\n",
    "\n",
    "def drop_tables(cur,conn):\n",
    "    for query in drop_table_queries:\n",
    "        cur.execute(query)\n",
    "        conn.commit()"
   ]
  },
  {
   "cell_type": "code",
   "execution_count": null,
   "id": "dcd20553",
   "metadata": {},
   "outputs": [],
   "source": [
    "# defining a function to create tables\n",
    "\n",
    "def create_tables(cur,conn):\n",
    "    for query in create_table_queries:\n",
    "        cur.execute(query)\n",
    "        conn.commit()"
   ]
  },
  {
   "cell_type": "code",
   "execution_count": null,
   "id": "a6c7d2d8",
   "metadata": {},
   "outputs": [],
   "source": [
    "#converting a csv file into DataFrame using pandas\n",
    "\n",
    "Drivers =  pd.read_csv(\"/Users/arunk/OneDrive/Desktop/db using py/grand prix/GrandPrix_drivers_details_1950_to_2022.csv\")"
   ]
  },
  {
   "cell_type": "code",
   "execution_count": null,
   "id": "f4d99db4",
   "metadata": {},
   "outputs": [],
   "source": [
    "Laps =  pd.read_csv(\"/Users/arunk/OneDrive/Desktop/db using py/grand prix/GrandPrix_fastest_laps_details_1950_to_2022.csv\", encoding='latin-1')"
   ]
  },
  {
   "cell_type": "code",
   "execution_count": null,
   "id": "90be1225",
   "metadata": {},
   "outputs": [],
   "source": [
    "Records = pd.read_csv(\"/Users/arunk/OneDrive/Desktop/db using py/grand prix/GrandPrix_races_details_1950_to_2022.csv\", encoding='latin-1') "
   ]
  },
  {
   "cell_type": "code",
   "execution_count": null,
   "id": "4acd8d02",
   "metadata": {},
   "outputs": [],
   "source": [
    "#getting cursor and connection from function create_database\n",
    "\n",
    "cur,conn = create_database()"
   ]
  },
  {
   "cell_type": "code",
   "execution_count": null,
   "id": "9a99ab31",
   "metadata": {},
   "outputs": [],
   "source": [
    "#creating tables\n",
    "\n",
    "create_table_driver = (\"\"\"CREATE TABLE IF NOT EXISTS Drivers(\n",
    "Driver VARCHAR PRIMARY KEY,\n",
    "POS int,\n",
    "Nationality VARCHAR,\n",
    "Car VARCHAR,\n",
    "PTS float,\n",
    "Year int)\"\"\")\n",
    "\n",
    "cur.execute(create_table_driver)\n",
    "conn.commit()"
   ]
  },
  {
   "cell_type": "code",
   "execution_count": null,
   "id": "efa19743",
   "metadata": {},
   "outputs": [],
   "source": [
    "create_table_laps =(\"\"\"CREATE TABLE IF NOT EXISTS Laps(\n",
    "Grand Prix VARCHAR,\n",
    "Driver VARCHAR ,\n",
    "time TIMESTAMP,\n",
    "Car VARCHAR,\n",
    "Year int)\"\"\")\n",
    "\n",
    "cur.execute(create_table_laps)\n",
    "conn.commit()"
   ]
  },
  {
   "cell_type": "code",
   "execution_count": null,
   "id": "d2358bbc",
   "metadata": {},
   "outputs": [],
   "source": [
    "create_table_records =(\"\"\"CREATE TABLE IF NOT EXISTS Records(\n",
    "Grand Prix VARCHAR,\n",
    "Date DATETIME,\n",
    "Winner VARCHAR ,\n",
    "laps int,\n",
    "time TIMESTAMP,\n",
    "Car VARCHAR,\n",
    "Year int)\"\"\")\n",
    "\n",
    "cur.execute(create_table_records)\n",
    "conn.commit()"
   ]
  },
  {
   "cell_type": "code",
   "execution_count": null,
   "id": "50e225b0",
   "metadata": {},
   "outputs": [],
   "source": [
    "insert_table_driver = (\"\"\"INSERT INTO Drivers(\n",
    "Driver,\n",
    "POS,\n",
    "Nationality,\n",
    "Car,\n",
    "PTS,\n",
    "Year)\n",
    "VALUES (%s,%s,%s,%s,%s,%s)\n",
    "\"\"\")"
   ]
  },
  {
   "cell_type": "code",
   "execution_count": null,
   "id": "579da2db",
   "metadata": {},
   "outputs": [],
   "source": [
    "for i, row in Drivers.iterrows():\n",
    "    cur.execute(insert_table_driver, list(row))"
   ]
  },
  {
   "cell_type": "code",
   "execution_count": null,
   "id": "50347988",
   "metadata": {},
   "outputs": [],
   "source": [
    "insert_table_laps =(\"\"\"INSERT INTO Laps(\n",
    "Grand Prix ,\n",
    "Driver  ,\n",
    "time ,\n",
    "Car ,\n",
    "Year )\n",
    "VALUES(%S,%S,%S,%S,%S)\"\"\")"
   ]
  },
  {
   "cell_type": "code",
   "execution_count": null,
   "id": "fae849ca",
   "metadata": {},
   "outputs": [],
   "source": [
    "for i, row in Laps.iterrow():\n",
    "    cur.execute(insert_table_laps, list(row))"
   ]
  },
  {
   "cell_type": "code",
   "execution_count": null,
   "id": "3f8082f5",
   "metadata": {},
   "outputs": [],
   "source": [
    "insert_table_records =(\"\"\"INSERT INTO Records(\n",
    "Grand Prix ,\n",
    "Date ,\n",
    "Winner,\n",
    "laps,\n",
    "time ,\n",
    "Car ,\n",
    "Year )\n",
    "VALUES (%S,%S,%S,%S,%S,%S,%S)\"\"\")\n"
   ]
  },
  {
   "cell_type": "code",
   "execution_count": null,
   "id": "ae7923fe",
   "metadata": {},
   "outputs": [],
   "source": [
    "for i,row in Records.iterrow():\n",
    "    cur.execute(insert_table_records, list(row))"
   ]
  },
  {
   "cell_type": "code",
   "execution_count": null,
   "id": "0ef85e6f",
   "metadata": {},
   "outputs": [],
   "source": [
    "conn.commit()"
   ]
  }
 ],
 "metadata": {
  "kernelspec": {
   "display_name": "Python 3 (ipykernel)",
   "language": "python",
   "name": "python3"
  },
  "language_info": {
   "codemirror_mode": {
    "name": "ipython",
    "version": 3
   },
   "file_extension": ".py",
   "mimetype": "text/x-python",
   "name": "python",
   "nbconvert_exporter": "python",
   "pygments_lexer": "ipython3",
   "version": "3.10.4"
  }
 },
 "nbformat": 4,
 "nbformat_minor": 5
}
